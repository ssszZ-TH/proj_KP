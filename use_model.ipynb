{
 "cells": [
  {
   "cell_type": "code",
   "execution_count": null,
   "id": "8f000a69",
   "metadata": {},
   "outputs": [
    {
     "name": "stderr",
     "output_type": "stream",
     "text": [
      "c:\\Python311\\Lib\\site-packages\\tqdm\\auto.py:21: TqdmWarning: IProgress not found. Please update jupyter and ipywidgets. See https://ipywidgets.readthedocs.io/en/stable/user_install.html\n",
      "  from .autonotebook import tqdm as notebook_tqdm\n"
     ]
    },
    {
     "name": "stdout",
     "output_type": "stream",
     "text": [
      "Running on local URL:  http://127.0.0.1:7860\n",
      "\n",
      "To create a public link, set `share=True` in `launch()`.\n"
     ]
    },
    {
     "data": {
      "text/html": [
       "<div><iframe src=\"http://127.0.0.1:7860/\" width=\"100%\" height=\"500\" allow=\"autoplay; camera; microphone; clipboard-read; clipboard-write;\" frameborder=\"0\" allowfullscreen></iframe></div>"
      ],
      "text/plain": [
       "<IPython.core.display.HTML object>"
      ]
     },
     "metadata": {},
     "output_type": "display_data"
    },
    {
     "data": {
      "text/plain": []
     },
     "execution_count": 1,
     "metadata": {},
     "output_type": "execute_result"
    },
    {
     "name": "stderr",
     "output_type": "stream",
     "text": [
      "c:\\Python311\\Lib\\site-packages\\gradio\\analytics.py:106: UserWarning: IMPORTANT: You are using gradio version 4.44.0, however version 4.44.1 is available, please upgrade. \n",
      "--------\n",
      "  warnings.warn(\n",
      "c:\\Python311\\Lib\\site-packages\\sklearn\\base.py:493: UserWarning: X does not have valid feature names, but RandomForestClassifier was fitted with feature names\n",
      "  warnings.warn(\n"
     ]
    }
   ],
   "source": [
    "import gradio as gr\n",
    "import pandas as pd\n",
    "import pickle\n",
    "from sklearn.preprocessing import LabelEncoder, StandardScaler\n",
    "\n",
    "# Load preprocessors and model\n",
    "with open('random_forest.pkl', 'rb') as f:\n",
    "    model = pickle.load(f)\n",
    "\n",
    "# Initialize preprocessors\n",
    "le_gender = LabelEncoder().fit(['Male', 'Female'])\n",
    "le_married = LabelEncoder().fit(['Yes', 'No'])\n",
    "le_dependents = LabelEncoder().fit(['0', '1', '2', '3+'])\n",
    "le_education = LabelEncoder().fit(['Graduate', 'Not Graduate'])\n",
    "le_self_employed = LabelEncoder().fit(['Yes', 'No'])\n",
    "le_property_area = LabelEncoder().fit(['Urban', 'Rural', 'Semiurban'])\n",
    "scaler = StandardScaler()\n",
    "\n",
    "# Load preprocessed data for scaler\n",
    "df = pd.read_csv('preprocessed_loan_data.csv')\n",
    "X = df.drop('Loan_Status', axis=1)\n",
    "scaler.fit(X)\n",
    "\n",
    "def predict_loan(gender, married, dependents, education, self_employed, applicant_income, coapplicant_income, loan_amount, loan_amount_term, credit_history, property_area):\n",
    "    # Prepare input data\n",
    "    input_data = pd.DataFrame({\n",
    "        'Gender': [le_gender.transform([gender])[0]],\n",
    "        'Married': [le_married.transform([married])[0]],\n",
    "        'Dependents': [le_dependents.transform([dependents])[0]],\n",
    "        'Education': [le_education.transform([education])[0]],\n",
    "        'Self_Employed': [le_self_employed.transform([self_employed])[0]],\n",
    "        'ApplicantIncome': [applicant_income],\n",
    "        'CoapplicantIncome': [coapplicant_income],\n",
    "        'LoanAmount': [loan_amount],\n",
    "        'Loan_Amount_Term': [loan_amount_term],\n",
    "        'Credit_History': [credit_history],\n",
    "        'Property_Area': [le_property_area.transform([property_area])[0]]\n",
    "    })\n",
    "    \n",
    "    # Scale numerical features\n",
    "    input_data_scaled = scaler.transform(input_data)\n",
    "    \n",
    "    # Predict\n",
    "    prediction = model.predict(input_data_scaled)[0]\n",
    "    \n",
    "    # Output result\n",
    "    if prediction == 1:\n",
    "        return gr.HTML(\"<h2 style='color: green; text-align: center;'>APPROVED! 🎉 Your loan is good to go!</h2>\")\n",
    "    else:\n",
    "        return gr.HTML(\"<h2 style='color: red; text-align: center;'>NOT APPROVED! 😡 *Italian chef snaps spaghetti* No loan for you!</h2>\")\n",
    "\n",
    "# Create Gradio interface\n",
    "with gr.Blocks() as demo:\n",
    "    gr.Markdown(\"# Loan Approval Prediction 🏦\")\n",
    "    gr.Markdown(\"Fill in the details below to check if your loan will be approved!\")\n",
    "    \n",
    "    with gr.Row():\n",
    "        gender = gr.Dropdown(choices=['Male', 'Female'], label=\"Gender\")\n",
    "        married = gr.Dropdown(choices=['Yes', 'No'], label=\"Married\")\n",
    "        dependents = gr.Dropdown(choices=['0', '1', '2', '3+'], label=\"Dependents\")\n",
    "    with gr.Row():\n",
    "        education = gr.Dropdown(choices=['Graduate', 'Not Graduate'], label=\"Education\")\n",
    "        self_employed = gr.Dropdown(choices=['Yes', 'No'], label=\"Self Employed\")\n",
    "        property_area = gr.Dropdown(choices=['Urban', 'Rural', 'Semiurban'], label=\"Property Area\")\n",
    "    with gr.Row():\n",
    "        applicant_income = gr.Number(label=\"Applicant Income\")\n",
    "        coapplicant_income = gr.Number(label=\"Co-applicant Income\")\n",
    "        loan_amount = gr.Number(label=\"Loan Amount\")\n",
    "    with gr.Row():\n",
    "        loan_amount_term = gr.Number(label=\"Loan Amount Term (months)\")\n",
    "        credit_history = gr.Dropdown(choices=[0, 1], label=\"Credit History (0 = Bad, 1 = Good)\")\n",
    "    \n",
    "    submit_button = gr.Button(\"Check Loan Status\")\n",
    "    output = gr.HTML()\n",
    "    \n",
    "    submit_button.click(\n",
    "        fn=predict_loan,\n",
    "        inputs=[gender, married, dependents, education, self_employed, applicant_income, coapplicant_income, loan_amount, loan_amount_term, credit_history, property_area],\n",
    "        outputs=output\n",
    "    )\n",
    "\n",
    "demo.launch()"
   ]
  }
 ],
 "metadata": {
  "kernelspec": {
   "display_name": "Python 3",
   "language": "python",
   "name": "python3"
  },
  "language_info": {
   "codemirror_mode": {
    "name": "ipython",
    "version": 3
   },
   "file_extension": ".py",
   "mimetype": "text/x-python",
   "name": "python",
   "nbconvert_exporter": "python",
   "pygments_lexer": "ipython3",
   "version": "3.11.7"
  }
 },
 "nbformat": 4,
 "nbformat_minor": 5
}
